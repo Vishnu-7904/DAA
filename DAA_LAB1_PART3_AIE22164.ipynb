{
  "cells": [
    {
      "cell_type": "markdown",
      "metadata": {
        "id": "QTeMi0Qeic_r"
      },
      "source": [
        "Question 1"
      ]
    },
    {
      "cell_type": "code",
      "execution_count": null,
      "metadata": {
        "colab": {
          "base_uri": "https://localhost:8080/"
        },
        "id": "_hVFqe-Ej1mH",
        "outputId": "dd1dbff5-0d54-4a56-81d3-e8f84c0ef568"
      },
      "outputs": [
        {
          "name": "stdout",
          "output_type": "stream",
          "text": [
            "Enter the target sum: 12\n",
            "Pair with sum 12 found: (5, 7)\n"
          ]
        }
      ],
      "source": [
        "def find_pair_with_sum(nums, target):\n",
        "    # Create an empty set to store visited numbers\n",
        "    num_set = set()\n",
        "    for num in nums:\n",
        "        # Calculate the complement for the current number\n",
        "        complement = target - num\n",
        "\n",
        "        if complement in num_set:\n",
        "            return num, complement\n",
        "        \n",
        "        num_set.add(num)\n",
        "    return None\n",
        "\n",
        "# Example usage\n",
        "nums = [8, 7, 2, 5, 3, 1] \n",
        "target = int(input(\"Enter the target sum: \"))  # Get target sum from user input\n",
        "pair = find_pair_with_sum(nums, target)  # Find pair with sum\n",
        "if pair:\n",
        "    print(f\"Pair with sum {target} found: {pair}\")  \n",
        "    print(f\"No pair with sum {target} found\")   \n"
      ]
    },
    {
      "cell_type": "markdown",
      "metadata": {
        "id": "nIcLMjumj09u"
      },
      "source": [
        "Question 2"
      ]
    },
    {
      "cell_type": "code",
      "execution_count": null,
      "metadata": {
        "colab": {
          "base_uri": "https://localhost:8080/"
        },
        "id": "20kKZ1hyka67",
        "outputId": "39cca624-5e3e-45ef-aa9a-a1497c0f446c"
      },
      "outputs": [
        {
          "name": "stdout",
          "output_type": "stream",
          "text": [
            "Pair with maximum product: (8, 9), Product: 72\n"
          ]
        }
      ],
      "source": [
        "def max_product_pair(nums):\n",
        "    if len(nums) < 2:\n",
        "        return None \n",
        "\n",
        "    max_num = max(nums[0], nums[1])  # Initialize the maximum number\n",
        "    second_max = min(nums[0], nums[1])  # Initialize the second maximum number\n",
        "\n",
        "    # Iterate through the list to find the maximum and second maximum numbers\n",
        "    for i in range(2, len(nums)):\n",
        "        if nums[i] > max_num:\n",
        "            second_max = max_num\n",
        "            max_num = nums[i]\n",
        "        elif nums[i] > second_max:\n",
        "            second_max = nums[i]\n",
        "\n",
        "    return max_num, second_max  \n",
        "\n",
        "nums = [1, 7, 4, 2, 8, 6, 3, 9, 5]  # List of numbers\n",
        "pair = max_product_pair(nums)  # Find the pair with maximum product\n",
        "if pair:\n",
        "    print(f\"Pair with maximum product: {pair}, Product: {pair[0] * pair[1]}\")  \n",
        "else:\n",
        "    print(\"No pair found\")  \n"
      ]
    },
    {
      "cell_type": "markdown",
      "metadata": {
        "id": "qqlpqsoPkZpe"
      },
      "source": [
        "Question 3"
      ]
    },
    {
      "cell_type": "code",
      "execution_count": null,
      "metadata": {
        "colab": {
          "base_uri": "https://localhost:8080/"
        },
        "id": "XQoFqkLVmdAe",
        "outputId": "5a5de211-2cce-4be5-d5bf-ea9812f0ccce"
      },
      "outputs": [
        {
          "name": "stdout",
          "output_type": "stream",
          "text": [
            "Enter the array elements separated by space: 3 5 7 6 8 9\n",
            "Sorted array after fixing the swapped elements: [3, 5, 6, 7, 8, 9]\n"
          ]
        }
      ],
      "source": [
        "def sort_swapped_array(arr):\n",
        "    # Find the indices of the two elements that are out of order\n",
        "    first_index = None\n",
        "    second_index = None\n",
        "    for i in range(len(arr) - 1):\n",
        "        if arr[i] > arr[i + 1]:\n",
        "            if first_index is None:\n",
        "                first_index = i\n",
        "            else:\n",
        "                second_index = i + 1\n",
        "                break\n",
        "\n",
        "    # If second_index is still None, only one pair of elements are swapped\n",
        "    if second_index is None:\n",
        "        second_index = first_index + 1\n",
        "\n",
        "    # If both indices are still None, the array is already sorted\n",
        "    if first_index is None:\n",
        "        print(\"Array is already sorted.\")\n",
        "        return\n",
        "\n",
        "    # Swap the two elements to restore the sorted order\n",
        "    arr[first_index], arr[second_index] = arr[second_index], arr[first_index]\n",
        "\n",
        "# Example usage\n",
        "try:\n",
        "    arr = list(map(int, input(\"Enter the array elements separated by space: \").split()))  # Get array elements from user input\n",
        "    sort_swapped_array(arr)  # Sort the array by fixing the swapped elements\n",
        "    print(\"Sorted array after fixing the swapped elements:\", arr)  \n",
        "except ValueError:\n",
        "    print(\"Invalid input. Please enter integers separated by spaces.\") "
      ]
    },
    {
      "cell_type": "markdown",
      "metadata": {
        "id": "CgoxEalDkP6w"
      },
      "source": [
        "Question 4"
      ]
    },
    {
      "cell_type": "code",
      "execution_count": null,
      "metadata": {
        "colab": {
          "base_uri": "https://localhost:8080/"
        },
        "id": "tJSAqhwErLgD",
        "outputId": "520e2f82-5365-41cd-f748-1521f36018c1"
      },
      "outputs": [
        {
          "name": "stdout",
          "output_type": "stream",
          "text": [
            "Output: [0, 0, 0, 0, 0, 1, 1, 1, 1, 1]\n"
          ]
        }
      ],
      "source": [
        "def segregate_zeros_and_ones(arr):\n",
        "    left = 0  # Initialize left pointer\n",
        "    right = len(arr) - 1  # Initialize right pointer\n",
        "\n",
        "    while left < right:\n",
        "        while arr[left] == 0 and left < right:  # Move left pointer until it points to a non-zero element\n",
        "            left += 1\n",
        "        while arr[right] == 1 and left < right:  # Move right pointer until it points to a non-one element\n",
        "            right -= 1\n",
        "        if left < right:\n",
        "            # Swap the elements pointed by left and right pointers\n",
        "            arr[left], arr[right] = arr[right], arr[left]\n",
        "\n",
        "    return arr\n",
        "\n",
        "arr = [0, 1, 0, 1, 0, 0, 1, 1, 1, 0]  # Input array\n",
        "result = segregate_zeros_and_ones(arr)  # Call function to segregate zeros and ones\n",
        "print(\"Output:\", result) "
      ]
    },
    {
      "cell_type": "markdown",
      "metadata": {
        "id": "wvx_zzJxsDPI"
      },
      "source": [
        "Question 5"
      ]
    },
    {
      "cell_type": "code",
      "execution_count": 2,
      "metadata": {
        "colab": {
          "base_uri": "https://localhost:8080/"
        },
        "id": "1qLcD9WLsC4B",
        "outputId": "e9f3119c-c68b-4e5e-d4c0-b14358b105fc"
      },
      "outputs": [
        {
          "name": "stdout",
          "output_type": "stream",
          "text": [
            "Enter the array elements separated by spaces: 2 12 13 76 55 32 10\n",
            "Total count of inversions: 15\n"
          ]
        }
      ],
      "source": [
        "def merge_and_count_inversions(arr, left, mid, right):\n",
        "    inv_count = 0  # Initialize inversion count\n",
        "\n",
        "    # Create temporary arrays for left and right subarrays\n",
        "    left_arr = arr[left:mid + 1]\n",
        "    right_arr = arr[mid + 1:right + 1]\n",
        "\n",
        "    # Merge the temporary arrays back into arr[left:right + 1]\n",
        "    i = j = 0\n",
        "    k = left  \n",
        "\n",
        "    while i < len(left_arr) and j < len(right_arr):\n",
        "        if left_arr[i] <= right_arr[j]:\n",
        "            arr[k] = left_arr[i]\n",
        "            i += 1\n",
        "        else:\n",
        "            arr[k] = right_arr[j]\n",
        "            j += 1\n",
        "          \n",
        "            inv_count += (mid - left + 1)\n",
        "        k += 1\n",
        "\n",
        "    # Copy the remaining elements of left_arr and right_arr, if any\n",
        "    while i < len(left_arr):\n",
        "        arr[k] = left_arr[i]\n",
        "        i += 1\n",
        "        k += 1\n",
        "\n",
        "    while j < len(right_arr):\n",
        "        arr[k] = right_arr[j]\n",
        "        j += 1\n",
        "        k += 1\n",
        "\n",
        "    return inv_count\n",
        "\n",
        "def merge_sort_and_count_inversions(arr, left, right):\n",
        "    inv_count = 0  # Initialize inversion count\n",
        "\n",
        "    if left < right:\n",
        "        mid = (left + right) // 2\n",
        "\n",
        "        # Count inversions in left and right subarrays\n",
        "        inv_count += merge_sort_and_count_inversions(arr, left, mid)\n",
        "        inv_count += merge_sort_and_count_inversions(arr, mid + 1, right)\n",
        "        inv_count += merge_and_count_inversions(arr, left, mid, right)\n",
        "\n",
        "    return inv_count\n",
        "\n",
        "def count_inversions(arr):\n",
        "    # Call merge_sort_and_count_inversions to count inversions\n",
        "    inv_count = merge_sort_and_count_inversions(arr, 0, len(arr) - 1)\n",
        "    return inv_count\n",
        "\n",
        "# Take array input from the user\n",
        "user_input = input(\"Enter the array elements separated by spaces: \")\n",
        "arr = list(map(int, user_input.split()))\n",
        "\n",
        "# Call the count_inversions function\n",
        "total_inversions = count_inversions(arr)\n",
        "print(\"Total count of inversions:\", total_inversions)\n"
      ]
    },
    {
      "cell_type": "markdown",
      "metadata": {
        "id": "6KKPzzb8hqXF"
      },
      "source": [
        "Question 6"
      ]
    },
    {
      "cell_type": "code",
      "execution_count": 3,
      "metadata": {
        "colab": {
          "base_uri": "https://localhost:8080/"
        },
        "id": "7yGNQyM7htVV",
        "outputId": "3d9b5a33-7bb0-413d-f19c-8a38f1be1fae"
      },
      "outputs": [
        {
          "name": "stdout",
          "output_type": "stream",
          "text": [
            "True\n"
          ]
        }
      ],
      "source": [
        "def has_sum_naive(arr, K):\n",
        "    n = len(arr)  # Get the length of the array\n",
        "    for i in range(n):\n",
        "        for j in range(i + 1, n):\n",
        "            if arr[i] + arr[j] == K:  # Check if the sum of two elements equals K\n",
        "                return True  \n",
        "    return False \n",
        "\n",
        "arr = [8, 4, 1, 6]  # Input array\n",
        "K = 10  \n",
        "print(has_sum_naive(arr, K)) "
      ]
    },
    {
      "cell_type": "code",
      "execution_count": 4,
      "metadata": {
        "colab": {
          "base_uri": "https://localhost:8080/"
        },
        "id": "ogUyyQDUh2z2",
        "outputId": "314f8333-d1ca-47af-f0c8-7bd2739178fb"
      },
      "outputs": [
        {
          "name": "stdout",
          "output_type": "stream",
          "text": [
            "True\n"
          ]
        }
      ],
      "source": [
        "def has_sum(arr, K):\n",
        "    arr.sort()  # Sort the array in non-decreasing order\n",
        "    left = 0  #\n",
        "    right = len(arr) - 1  \n",
        "    while left < right:\n",
        "        curr_sum = arr[left] + arr[right]  # Calculate the current sum\n",
        "        if curr_sum == K:  \n",
        "            return True  \n",
        "        elif curr_sum < K:  \n",
        "            left += 1  # Move the left pointer to the right\n",
        "        else:  \n",
        "            right -= 1  # Move the right pointer to the left\n",
        "\n",
        "    return False  \n",
        "\n",
        "\n",
        "arr = [8, 4, 1, 6]  # Input array\n",
        "K = 10  \n",
        "print(has_sum(arr, K)) "
      ]
    }
  ],
  "metadata": {
    "colab": {
      "provenance": []
    },
    "kernelspec": {
      "display_name": "Python 3",
      "name": "python3"
    },
    "language_info": {
      "name": "python"
    }
  },
  "nbformat": 4,
  "nbformat_minor": 0
}
